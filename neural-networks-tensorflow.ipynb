{
 "cells": [
  {
   "cell_type": "code",
   "execution_count": 1,
   "metadata": {
    "collapsed": true
   },
   "outputs": [],
   "source": [
    "import tensorflow as tf\n",
    "import numpy as np\n",
    "from sklearn.model_selection import train_test_split\n",
    "import math\n",
    "\n",
    "import pandas as pd"
   ]
  },
  {
   "cell_type": "markdown",
   "metadata": {},
   "source": [
    "#### Two new columns were added to the test & train dataset - SignWidth & SignHeight. The columns are result of dividing  SignWidth_old & SignHeight_old with their diagonals. "
   ]
  },
  {
   "cell_type": "code",
   "execution_count": 4,
   "metadata": {},
   "outputs": [],
   "source": [
    "train = pd.read_csv(\"dataset/train.csv\")\n",
    "test = pd.read_csv(\"dataset/test.csv\")"
   ]
  },
  {
   "cell_type": "code",
   "execution_count": 5,
   "metadata": {},
   "outputs": [
    {
     "data": {
      "text/html": [
       "<div>\n",
       "<style>\n",
       "    .dataframe thead tr:only-child th {\n",
       "        text-align: right;\n",
       "    }\n",
       "\n",
       "    .dataframe thead th {\n",
       "        text-align: left;\n",
       "    }\n",
       "\n",
       "    .dataframe tbody tr th {\n",
       "        vertical-align: top;\n",
       "    }\n",
       "</style>\n",
       "<table border=\"1\" class=\"dataframe\">\n",
       "  <thead>\n",
       "    <tr style=\"text-align: right;\">\n",
       "      <th></th>\n",
       "      <th>Id</th>\n",
       "      <th>DetectedCamera</th>\n",
       "      <th>AngleOfSign</th>\n",
       "      <th>SignAspectRatio</th>\n",
       "      <th>SignWidth_old</th>\n",
       "      <th>SignHeight_old</th>\n",
       "      <th>SignFacing (Target)</th>\n",
       "      <th>SignWidth</th>\n",
       "      <th>SignHeight</th>\n",
       "    </tr>\n",
       "  </thead>\n",
       "  <tbody>\n",
       "    <tr>\n",
       "      <th>0</th>\n",
       "      <td>2c9180975a056a64015a1e0a52e57021</td>\n",
       "      <td>Rear</td>\n",
       "      <td>195</td>\n",
       "      <td>1.02</td>\n",
       "      <td>46</td>\n",
       "      <td>45</td>\n",
       "      <td>Rear</td>\n",
       "      <td>0.714834</td>\n",
       "      <td>0.699294</td>\n",
       "    </tr>\n",
       "    <tr>\n",
       "      <th>1</th>\n",
       "      <td>2c9180975a056a64015a1e17b32171e4</td>\n",
       "      <td>Rear</td>\n",
       "      <td>203</td>\n",
       "      <td>1.09</td>\n",
       "      <td>59</td>\n",
       "      <td>54</td>\n",
       "      <td>Rear</td>\n",
       "      <td>0.737673</td>\n",
       "      <td>0.675158</td>\n",
       "    </tr>\n",
       "    <tr>\n",
       "      <th>2</th>\n",
       "      <td>2c9180975a056a64015a1de4deb16bd5</td>\n",
       "      <td>Front</td>\n",
       "      <td>26</td>\n",
       "      <td>0.96</td>\n",
       "      <td>104</td>\n",
       "      <td>108</td>\n",
       "      <td>Front</td>\n",
       "      <td>0.693642</td>\n",
       "      <td>0.720320</td>\n",
       "    </tr>\n",
       "    <tr>\n",
       "      <th>3</th>\n",
       "      <td>2c9180975a056a64015a1de4deb16bdd</td>\n",
       "      <td>Rear</td>\n",
       "      <td>199</td>\n",
       "      <td>0.81</td>\n",
       "      <td>38</td>\n",
       "      <td>47</td>\n",
       "      <td>Rear</td>\n",
       "      <td>0.628722</td>\n",
       "      <td>0.777630</td>\n",
       "    </tr>\n",
       "    <tr>\n",
       "      <th>4</th>\n",
       "      <td>2c9180975a056a64015a1de4deb16bd6</td>\n",
       "      <td>Rear</td>\n",
       "      <td>208</td>\n",
       "      <td>0.93</td>\n",
       "      <td>54</td>\n",
       "      <td>58</td>\n",
       "      <td>Rear</td>\n",
       "      <td>0.681419</td>\n",
       "      <td>0.731894</td>\n",
       "    </tr>\n",
       "  </tbody>\n",
       "</table>\n",
       "</div>"
      ],
      "text/plain": [
       "                                 Id DetectedCamera  AngleOfSign  \\\n",
       "0  2c9180975a056a64015a1e0a52e57021           Rear          195   \n",
       "1  2c9180975a056a64015a1e17b32171e4           Rear          203   \n",
       "2  2c9180975a056a64015a1de4deb16bd5          Front           26   \n",
       "3  2c9180975a056a64015a1de4deb16bdd           Rear          199   \n",
       "4  2c9180975a056a64015a1de4deb16bd6           Rear          208   \n",
       "\n",
       "   SignAspectRatio  SignWidth_old  SignHeight_old SignFacing (Target)  \\\n",
       "0             1.02             46              45                Rear   \n",
       "1             1.09             59              54                Rear   \n",
       "2             0.96            104             108               Front   \n",
       "3             0.81             38              47                Rear   \n",
       "4             0.93             54              58                Rear   \n",
       "\n",
       "   SignWidth  SignHeight  \n",
       "0   0.714834    0.699294  \n",
       "1   0.737673    0.675158  \n",
       "2   0.693642    0.720320  \n",
       "3   0.628722    0.777630  \n",
       "4   0.681419    0.731894  "
      ]
     },
     "execution_count": 5,
     "metadata": {},
     "output_type": "execute_result"
    }
   ],
   "source": [
    "train.head()"
   ]
  },
  {
   "cell_type": "code",
   "execution_count": 6,
   "metadata": {},
   "outputs": [
    {
     "data": {
      "text/html": [
       "<div>\n",
       "<style>\n",
       "    .dataframe thead tr:only-child th {\n",
       "        text-align: right;\n",
       "    }\n",
       "\n",
       "    .dataframe thead th {\n",
       "        text-align: left;\n",
       "    }\n",
       "\n",
       "    .dataframe tbody tr th {\n",
       "        vertical-align: top;\n",
       "    }\n",
       "</style>\n",
       "<table border=\"1\" class=\"dataframe\">\n",
       "  <thead>\n",
       "    <tr style=\"text-align: right;\">\n",
       "      <th></th>\n",
       "      <th>Id</th>\n",
       "      <th>DetectedCamera</th>\n",
       "      <th>AngleOfSign</th>\n",
       "      <th>SignAspectRatio</th>\n",
       "      <th>SignWidth_old</th>\n",
       "      <th>SignHeight_old</th>\n",
       "      <th>SignWidth</th>\n",
       "      <th>SignHeight</th>\n",
       "    </tr>\n",
       "  </thead>\n",
       "  <tbody>\n",
       "    <tr>\n",
       "      <th>0</th>\n",
       "      <td>2c9180975a056a64015a1e10d3f270fe</td>\n",
       "      <td>Right</td>\n",
       "      <td>67</td>\n",
       "      <td>0.63</td>\n",
       "      <td>107</td>\n",
       "      <td>169</td>\n",
       "      <td>0.534933</td>\n",
       "      <td>0.844894</td>\n",
       "    </tr>\n",
       "    <tr>\n",
       "      <th>1</th>\n",
       "      <td>2c9180975a056a64015a1de4deb16bdc</td>\n",
       "      <td>Front</td>\n",
       "      <td>16</td>\n",
       "      <td>0.88</td>\n",
       "      <td>61</td>\n",
       "      <td>69</td>\n",
       "      <td>0.662340</td>\n",
       "      <td>0.749204</td>\n",
       "    </tr>\n",
       "    <tr>\n",
       "      <th>2</th>\n",
       "      <td>2c9180975a056a64015a1e0e70ea70ce</td>\n",
       "      <td>Right</td>\n",
       "      <td>44</td>\n",
       "      <td>1.15</td>\n",
       "      <td>232</td>\n",
       "      <td>202</td>\n",
       "      <td>0.754185</td>\n",
       "      <td>0.656661</td>\n",
       "    </tr>\n",
       "    <tr>\n",
       "      <th>3</th>\n",
       "      <td>2c9180975a056a64015a1dfed0c46ec6</td>\n",
       "      <td>Right</td>\n",
       "      <td>50</td>\n",
       "      <td>1.10</td>\n",
       "      <td>137</td>\n",
       "      <td>125</td>\n",
       "      <td>0.738719</td>\n",
       "      <td>0.674014</td>\n",
       "    </tr>\n",
       "    <tr>\n",
       "      <th>4</th>\n",
       "      <td>2c9180975a056a64015a1dfed0c46ec7</td>\n",
       "      <td>Front</td>\n",
       "      <td>30</td>\n",
       "      <td>0.95</td>\n",
       "      <td>99</td>\n",
       "      <td>104</td>\n",
       "      <td>0.689481</td>\n",
       "      <td>0.724304</td>\n",
       "    </tr>\n",
       "  </tbody>\n",
       "</table>\n",
       "</div>"
      ],
      "text/plain": [
       "                                 Id DetectedCamera  AngleOfSign  \\\n",
       "0  2c9180975a056a64015a1e10d3f270fe          Right           67   \n",
       "1  2c9180975a056a64015a1de4deb16bdc          Front           16   \n",
       "2  2c9180975a056a64015a1e0e70ea70ce          Right           44   \n",
       "3  2c9180975a056a64015a1dfed0c46ec6          Right           50   \n",
       "4  2c9180975a056a64015a1dfed0c46ec7          Front           30   \n",
       "\n",
       "   SignAspectRatio  SignWidth_old  SignHeight_old  SignWidth  SignHeight  \n",
       "0             0.63            107             169   0.534933    0.844894  \n",
       "1             0.88             61              69   0.662340    0.749204  \n",
       "2             1.15            232             202   0.754185    0.656661  \n",
       "3             1.10            137             125   0.738719    0.674014  \n",
       "4             0.95             99             104   0.689481    0.724304  "
      ]
     },
     "execution_count": 6,
     "metadata": {},
     "output_type": "execute_result"
    }
   ],
   "source": [
    "test.head()"
   ]
  },
  {
   "cell_type": "code",
   "execution_count": 7,
   "metadata": {},
   "outputs": [
    {
     "data": {
      "text/plain": [
       "Front    10910\n",
       "Right    10516\n",
       "Left      9298\n",
       "Rear      7761\n",
       "Name: DetectedCamera, dtype: int64"
      ]
     },
     "execution_count": 7,
     "metadata": {},
     "output_type": "execute_result"
    }
   ],
   "source": [
    "train['DetectedCamera'].value_counts()"
   ]
  },
  {
   "cell_type": "code",
   "execution_count": 8,
   "metadata": {
    "collapsed": true
   },
   "outputs": [],
   "source": [
    "#encode as integer\n",
    "mapping = {'Front':0, 'Right':1, 'Left':2, 'Rear':3}\n",
    "train = train.replace({'DetectedCamera':mapping})\n",
    "test = test.replace({'DetectedCamera':mapping})"
   ]
  },
  {
   "cell_type": "code",
   "execution_count": 9,
   "metadata": {
    "collapsed": true
   },
   "outputs": [],
   "source": [
    "#renaming column\n",
    "train.rename(columns = {'SignFacing (Target)': 'Target'}, inplace=True)"
   ]
  },
  {
   "cell_type": "code",
   "execution_count": 10,
   "metadata": {
    "collapsed": true
   },
   "outputs": [],
   "source": [
    "#encode Target Variable based on sample submission file\n",
    "mapping = {'Front':0, 'Left':1, 'Rear':2, 'Right':3}\n",
    "train = train.replace({'Target':mapping})"
   ]
  },
  {
   "cell_type": "code",
   "execution_count": 11,
   "metadata": {
    "collapsed": true
   },
   "outputs": [],
   "source": [
    "#target variable\n",
    "y_train = train['Target']\n",
    "test_id = test['Id']\n",
    "train_id = train['Id']"
   ]
  },
  {
   "cell_type": "code",
   "execution_count": 12,
   "metadata": {
    "collapsed": true
   },
   "outputs": [],
   "source": [
    "#drop columns\n",
    "train.drop(['Target','Id'], inplace=True, axis=1)\n",
    "test.drop('Id',inplace=True,axis=1)"
   ]
  },
  {
   "cell_type": "code",
   "execution_count": 13,
   "metadata": {
    "collapsed": true
   },
   "outputs": [],
   "source": [
    "train.drop(['SignWidth_old','SignHeight_old'], inplace=True, axis=1)\n",
    "test.drop(['SignWidth_old','SignHeight_old'], inplace=True, axis=1)"
   ]
  },
  {
   "cell_type": "code",
   "execution_count": 14,
   "metadata": {},
   "outputs": [
    {
     "data": {
      "text/html": [
       "<div>\n",
       "<style>\n",
       "    .dataframe thead tr:only-child th {\n",
       "        text-align: right;\n",
       "    }\n",
       "\n",
       "    .dataframe thead th {\n",
       "        text-align: left;\n",
       "    }\n",
       "\n",
       "    .dataframe tbody tr th {\n",
       "        vertical-align: top;\n",
       "    }\n",
       "</style>\n",
       "<table border=\"1\" class=\"dataframe\">\n",
       "  <thead>\n",
       "    <tr style=\"text-align: right;\">\n",
       "      <th></th>\n",
       "      <th>DetectedCamera</th>\n",
       "      <th>AngleOfSign</th>\n",
       "      <th>SignAspectRatio</th>\n",
       "      <th>SignWidth</th>\n",
       "      <th>SignHeight</th>\n",
       "    </tr>\n",
       "  </thead>\n",
       "  <tbody>\n",
       "    <tr>\n",
       "      <th>0</th>\n",
       "      <td>3</td>\n",
       "      <td>195</td>\n",
       "      <td>1.02</td>\n",
       "      <td>0.714834</td>\n",
       "      <td>0.699294</td>\n",
       "    </tr>\n",
       "    <tr>\n",
       "      <th>1</th>\n",
       "      <td>3</td>\n",
       "      <td>203</td>\n",
       "      <td>1.09</td>\n",
       "      <td>0.737673</td>\n",
       "      <td>0.675158</td>\n",
       "    </tr>\n",
       "    <tr>\n",
       "      <th>2</th>\n",
       "      <td>0</td>\n",
       "      <td>26</td>\n",
       "      <td>0.96</td>\n",
       "      <td>0.693642</td>\n",
       "      <td>0.720320</td>\n",
       "    </tr>\n",
       "    <tr>\n",
       "      <th>3</th>\n",
       "      <td>3</td>\n",
       "      <td>199</td>\n",
       "      <td>0.81</td>\n",
       "      <td>0.628722</td>\n",
       "      <td>0.777630</td>\n",
       "    </tr>\n",
       "    <tr>\n",
       "      <th>4</th>\n",
       "      <td>3</td>\n",
       "      <td>208</td>\n",
       "      <td>0.93</td>\n",
       "      <td>0.681419</td>\n",
       "      <td>0.731894</td>\n",
       "    </tr>\n",
       "  </tbody>\n",
       "</table>\n",
       "</div>"
      ],
      "text/plain": [
       "   DetectedCamera  AngleOfSign  SignAspectRatio  SignWidth  SignHeight\n",
       "0               3          195             1.02   0.714834    0.699294\n",
       "1               3          203             1.09   0.737673    0.675158\n",
       "2               0           26             0.96   0.693642    0.720320\n",
       "3               3          199             0.81   0.628722    0.777630\n",
       "4               3          208             0.93   0.681419    0.731894"
      ]
     },
     "execution_count": 14,
     "metadata": {},
     "output_type": "execute_result"
    }
   ],
   "source": [
    "train.head()"
   ]
  },
  {
   "cell_type": "code",
   "execution_count": 17,
   "metadata": {},
   "outputs": [
    {
     "data": {
      "text/html": [
       "<div>\n",
       "<style>\n",
       "    .dataframe thead tr:only-child th {\n",
       "        text-align: right;\n",
       "    }\n",
       "\n",
       "    .dataframe thead th {\n",
       "        text-align: left;\n",
       "    }\n",
       "\n",
       "    .dataframe tbody tr th {\n",
       "        vertical-align: top;\n",
       "    }\n",
       "</style>\n",
       "<table border=\"1\" class=\"dataframe\">\n",
       "  <thead>\n",
       "    <tr style=\"text-align: right;\">\n",
       "      <th></th>\n",
       "      <th>DetectedCamera</th>\n",
       "      <th>AngleOfSign</th>\n",
       "      <th>SignAspectRatio</th>\n",
       "      <th>SignWidth</th>\n",
       "      <th>SignHeight</th>\n",
       "    </tr>\n",
       "  </thead>\n",
       "  <tbody>\n",
       "    <tr>\n",
       "      <th>0</th>\n",
       "      <td>1</td>\n",
       "      <td>67</td>\n",
       "      <td>0.63</td>\n",
       "      <td>0.534933</td>\n",
       "      <td>0.844894</td>\n",
       "    </tr>\n",
       "    <tr>\n",
       "      <th>1</th>\n",
       "      <td>0</td>\n",
       "      <td>16</td>\n",
       "      <td>0.88</td>\n",
       "      <td>0.662340</td>\n",
       "      <td>0.749204</td>\n",
       "    </tr>\n",
       "    <tr>\n",
       "      <th>2</th>\n",
       "      <td>1</td>\n",
       "      <td>44</td>\n",
       "      <td>1.15</td>\n",
       "      <td>0.754185</td>\n",
       "      <td>0.656661</td>\n",
       "    </tr>\n",
       "    <tr>\n",
       "      <th>3</th>\n",
       "      <td>1</td>\n",
       "      <td>50</td>\n",
       "      <td>1.10</td>\n",
       "      <td>0.738719</td>\n",
       "      <td>0.674014</td>\n",
       "    </tr>\n",
       "    <tr>\n",
       "      <th>4</th>\n",
       "      <td>0</td>\n",
       "      <td>30</td>\n",
       "      <td>0.95</td>\n",
       "      <td>0.689481</td>\n",
       "      <td>0.724304</td>\n",
       "    </tr>\n",
       "  </tbody>\n",
       "</table>\n",
       "</div>"
      ],
      "text/plain": [
       "   DetectedCamera  AngleOfSign  SignAspectRatio  SignWidth  SignHeight\n",
       "0               1           67             0.63   0.534933    0.844894\n",
       "1               0           16             0.88   0.662340    0.749204\n",
       "2               1           44             1.15   0.754185    0.656661\n",
       "3               1           50             1.10   0.738719    0.674014\n",
       "4               0           30             0.95   0.689481    0.724304"
      ]
     },
     "execution_count": 17,
     "metadata": {},
     "output_type": "execute_result"
    }
   ],
   "source": [
    "test.head()"
   ]
  },
  {
   "cell_type": "code",
   "execution_count": 18,
   "metadata": {},
   "outputs": [
    {
     "data": {
      "text/plain": [
       "0    2\n",
       "1    2\n",
       "2    0\n",
       "3    2\n",
       "4    2\n",
       "Name: Target, dtype: int64"
      ]
     },
     "execution_count": 18,
     "metadata": {},
     "output_type": "execute_result"
    }
   ],
   "source": [
    "y_train.head()"
   ]
  },
  {
   "cell_type": "code",
   "execution_count": 24,
   "metadata": {
    "collapsed": true
   },
   "outputs": [],
   "source": [
    "# learningRate = 0.001\n",
    "numIters = 1001\n",
    "displayStep = 20"
   ]
  },
  {
   "cell_type": "code",
   "execution_count": 25,
   "metadata": {
    "collapsed": true
   },
   "outputs": [],
   "source": [
    "# placeholders and variables\n",
    "X = tf.placeholder(tf.float32,[None,5])\n",
    "Y_ = tf.placeholder(tf.float32,[None,4])\n",
    "lr = tf.placeholder(tf.float32)\n",
    "\n",
    "# weights and biases\n",
    "W1 = tf.Variable(tf.truncated_normal([5,90], stddev=0.1))\n",
    "b1 = tf.Variable(tf.ones([90])/10)\n",
    "\n",
    "W2 = tf.Variable(tf.truncated_normal([90,180], stddev=0.1))\n",
    "b2 = tf.Variable(tf.ones([180])/10)\n",
    "\n",
    "W3 = tf.Variable(tf.truncated_normal([180,60],stddev=0.1))\n",
    "b3 = tf.Variable(tf.ones([60])/10)\n",
    "\n",
    "W4 = tf.Variable(tf.truncated_normal([60,4],stddev=0.1))\n",
    "b4 = tf.Variable(tf.ones([4])/10)"
   ]
  },
  {
   "cell_type": "code",
   "execution_count": 26,
   "metadata": {
    "collapsed": true
   },
   "outputs": [],
   "source": [
    "# model\n",
    "Y1 = tf.nn.relu(tf.matmul(X,W1) + b1)\n",
    "Y2 = tf.nn.relu(tf.matmul(Y1,W2) + b2)\n",
    "Y3 = tf.nn.relu(tf.matmul(Y2,W3) + b3)\n",
    "Ylogits = tf.matmul(Y3,W4) + b4\n",
    "Y = tf.nn.softmax(Ylogits)\n",
    "\n",
    "loss = tf.reduce_mean(tf.nn.softmax_cross_entropy_with_logits(labels=Y_, logits=Ylogits))*100\n",
    "train_step = tf.train.AdamOptimizer(lr).minimize(loss)\n",
    "\n",
    "correct_prediction = tf.equal(tf.argmax(Y,1),tf.argmax(Y_,1))\n",
    "accuracy = tf.reduce_mean(tf.cast(correct_prediction,tf.float32))\n",
    "\n",
    "init = tf.global_variables_initializer()\n",
    "sess = tf.Session()\n",
    "sess.run(init)\n",
    "\n",
    "# X_train, X_val, y_train, y_val = train_test_split(train, y_train, train_size=0.65, random_state = 1)"
   ]
  },
  {
   "cell_type": "code",
   "execution_count": 27,
   "metadata": {
    "scrolled": false
   },
   "outputs": [
    {
     "name": "stdout",
     "output_type": "stream",
     "text": [
      "0 : Train accuracy:0.407483 loss: 100.253\n",
      "20 : Train accuracy:0.914226 loss: 61.2236\n",
      "40 : Train accuracy:0.646434 loss: 56.5615\n",
      "60 : Train accuracy:0.918176 loss: 34.8936\n",
      "80 : Train accuracy:0.917942 loss: 32.6006\n",
      "100 : Train accuracy:0.918072 loss: 30.7015\n",
      "120 : Train accuracy:0.918851 loss: 27.5273\n",
      "140 : Train accuracy:0.932935 loss: 23.1704\n",
      "160 : Train accuracy:0.93374 loss: 20.9944\n",
      "180 : Train accuracy:0.935092 loss: 19.1348\n",
      "200 : Train accuracy:0.923009 loss: 31.4137\n",
      "220 : Train accuracy:0.934962 loss: 22.673\n",
      "240 : Train accuracy:0.93504 loss: 20.2981\n",
      "260 : Train accuracy:0.93504 loss: 18.8182\n",
      "280 : Train accuracy:0.935767 loss: 17.8738\n",
      "300 : Train accuracy:0.941042 loss: 17.1148\n",
      "320 : Train accuracy:0.944212 loss: 16.446\n",
      "340 : Train accuracy:0.940366 loss: 17.555\n",
      "360 : Train accuracy:0.935767 loss: 25.4606\n",
      "380 : Train accuracy:0.935403 loss: 18.6482\n",
      "400 : Train accuracy:0.942367 loss: 16.7173\n",
      "420 : Train accuracy:0.944862 loss: 16.2006\n",
      "440 : Train accuracy:0.946914 loss: 15.6148\n",
      "460 : Train accuracy:0.948473 loss: 15.2476\n",
      "480 : Train accuracy:0.949461 loss: 14.9381\n",
      "500 : Train accuracy:0.945901 loss: 15.4389\n",
      "520 : Train accuracy:0.919007 loss: 48.5891\n",
      "540 : Train accuracy:0.919345 loss: 25.1803\n",
      "560 : Train accuracy:0.93478 loss: 20.3895\n",
      "580 : Train accuracy:0.937352 loss: 18.2376\n",
      "600 : Train accuracy:0.942029 loss: 17.0519\n",
      "620 : Train accuracy:0.944758 loss: 16.2497\n",
      "640 : Train accuracy:0.948058 loss: 15.7119\n",
      "660 : Train accuracy:0.935793 loss: 23.1464\n",
      "680 : Train accuracy:0.938755 loss: 17.8119\n",
      "700 : Train accuracy:0.942679 loss: 17.1055\n",
      "720 : Train accuracy:0.943848 loss: 16.383\n",
      "740 : Train accuracy:0.945693 loss: 15.9213\n",
      "760 : Train accuracy:0.947486 loss: 15.5091\n",
      "780 : Train accuracy:0.948603 loss: 15.1643\n",
      "800 : Train accuracy:0.949591 loss: 14.8608\n",
      "820 : Train accuracy:0.950396 loss: 14.5863\n",
      "840 : Train accuracy:0.950812 loss: 14.3455\n",
      "860 : Train accuracy:0.951384 loss: 14.1336\n",
      "880 : Train accuracy:0.951618 loss: 13.9407\n",
      "900 : Train accuracy:0.952891 loss: 13.9467\n",
      "920 : Train accuracy:0.953047 loss: 13.7925\n",
      "940 : Train accuracy:0.95341 loss: 13.6342\n",
      "960 : Train accuracy:0.948551 loss: 15.168\n",
      "980 : Train accuracy:0.951644 loss: 13.5955\n",
      "1000 : Train accuracy:0.952189 loss: 13.4126\n"
     ]
    }
   ],
   "source": [
    "# learning rate decay\n",
    "max_learning_rate = 0.003\n",
    "min_learning_rate = 0.0001\n",
    "decay_speed = 2000.0\n",
    "\n",
    "# testDict = {X: X_val.values ,Y_: np.eye(4)[y_val] }\n",
    "for i in range(numIters):\n",
    "    learning_rate = min_learning_rate + (max_learning_rate - min_learning_rate) * math.exp(-i/decay_speed)\n",
    "    feedDict = {X:train.values ,Y_:np.eye(4)[y_train], lr:learning_rate}\n",
    "    \n",
    "    sess.run(train_step,feed_dict=feedDict)\n",
    "    \n",
    "    if i%displayStep == 0:\n",
    "        acc,cost = sess.run([accuracy,loss], feed_dict=feedDict)\n",
    "        print(i, \": Train accuracy:\" + str(acc) + \" loss: \" + str(cost))\n",
    "        \n",
    "#         test_acc,test_cost = sess.run([accuracy,loss], feed_dict=testDict)\n",
    "#         print(\"Test accuracy:\" + str(test_acc) + \" loss: \" + str(test_cost))"
   ]
  },
  {
   "cell_type": "code",
   "execution_count": null,
   "metadata": {
    "collapsed": true
   },
   "outputs": [],
   "source": [
    "# acc = sess.run(correct_prediction,feed_dict={X:train.values, Y_:np.eye(4)[y_train]}) # to test train accuracies"
   ]
  },
  {
   "cell_type": "code",
   "execution_count": 28,
   "metadata": {
    "collapsed": true,
    "scrolled": false
   },
   "outputs": [],
   "source": [
    "pred = sess.run(Y,feed_dict={X: test.values})"
   ]
  },
  {
   "cell_type": "code",
   "execution_count": 30,
   "metadata": {},
   "outputs": [],
   "source": [
    "#write submission file and submit\n",
    "columns = ['Front','Left','Rear','Right']\n",
    "sub = pd.DataFrame(data=pred, columns=columns)\n",
    "sub['Id'] = test_id\n",
    "sub = sub[['Id','Front','Left','Rear','Right']]\n",
    "sub.to_csv(\"submission/sub_nn.csv\", index=False)"
   ]
  },
  {
   "cell_type": "code",
   "execution_count": null,
   "metadata": {
    "collapsed": true
   },
   "outputs": [],
   "source": []
  }
 ],
 "metadata": {
  "kernelspec": {
   "display_name": "Python 3",
   "language": "python",
   "name": "python3"
  },
  "language_info": {
   "codemirror_mode": {
    "name": "ipython",
    "version": 3
   },
   "file_extension": ".py",
   "mimetype": "text/x-python",
   "name": "python",
   "nbconvert_exporter": "python",
   "pygments_lexer": "ipython3",
   "version": "3.5.3"
  }
 },
 "nbformat": 4,
 "nbformat_minor": 2
}
